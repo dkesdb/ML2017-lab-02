{
 "cells": [
  {
   "cell_type": "code",
   "execution_count": 23,
   "metadata": {
    "collapsed": true
   },
   "outputs": [],
   "source": [
    "from sklearn.datasets import load_svmlight_file\n",
    "from sklearn.model_selection import train_test_split\n",
    "import numpy as np\n",
    "import math\n",
    "from math import exp,log\n",
    "from random import randint\n",
    "import matplotlib.pyplot as plt\n",
    "import random\n",
    "x_train,y_train=load_svmlight_file(\"C:/Users/Bean/Desktop/机器学习/机器学习实验课/a9a.txt\")\n",
    "x_train=x_train.toarray()\n",
    "x_train=np.hstack((x_train,np.ones([np.shape(x_train)[0],1])))\n",
    "y_train=y_train.reshape(np.shape(y_train)[0],1)\n",
    "x_test,y_test=load_svmlight_file(\"C:/Users/Bean/Desktop/机器学习/机器学习实验课/a9a.t\",123)\n",
    "x_test=x_test.toarray()\n",
    "x_test=np.hstack((x_test,np.ones([np.shape(x_test)[0],1])))\n",
    "y_test=y_test.reshape(np.shape(y_test)[0],1)\n",
    "\n",
    "n=np.shape(x_train)[0]\n",
    "m=np.shape(x_train)[1]\n",
    "\n",
    "def lossFunction(X,Y,W):\n",
    "    n,m=X.shape\n",
    "    loss=0\n",
    "    for i in range(n):\n",
    "        loss=loss+math.log((1+math.exp(-Y[i]*W.T.dot(X[i]))),math.e)\n",
    "    return loss/n\n",
    "\n",
    "def gradient(X,Y,W):\n",
    "    n,m=X.shape\n",
    "    g=0\n",
    "    for i in range(n):\n",
    "        g=g-Y[i]*X[i]/(1+exp(Y[i]*W.T.dot(X[i])))\n",
    "    return (g/n).reshape((g.shape[0],1))"
   ]
  },
  {
   "cell_type": "code",
   "execution_count": 24,
   "metadata": {},
   "outputs": [
    {
     "name": "stdout",
     "output_type": "stream",
     "text": [
      "finish\n"
     ]
    }
   ],
   "source": [
    "#NAG\n",
    "W=np.zeros((m,1))\n",
    "NAG=[]\n",
    "eta=0.001\n",
    "gamma=0.9\n",
    "batch=100\n",
    "\n",
    "v=0\n",
    "for epoch in range(1500):\n",
    "    random.seed()\n",
    "    i=randint(0,n-1-batch)\n",
    "    g=gradient(x_train[i:i+batch].reshape((batch,m)),y_train[i:i+batch].reshape((batch,1)),W-gamma*v)\n",
    "    v=gamma*v+eta*g\n",
    "    W=W-v\n",
    "    l_test=lossFunction(x_test,y_test,W)\n",
    "    NAG.append(l_test)\n",
    "print(\"finish\") "
   ]
  },
  {
   "cell_type": "code",
   "execution_count": 25,
   "metadata": {},
   "outputs": [
    {
     "name": "stdout",
     "output_type": "stream",
     "text": [
      "finished\n"
     ]
    }
   ],
   "source": [
    "#RMSProp\n",
    "W=np.zeros((m,1))\n",
    "RMSProp=[]\n",
    "eta=0.001\n",
    "gamma=0.9\n",
    "epsilon=1e-8\n",
    "batch=100\n",
    "G=0\n",
    "for epoch in range(1500):\n",
    "    random.seed()\n",
    "    i=randint(0,n-1-batch)\n",
    "    g=gradient(x_train[i:i+batch].reshape((batch,m)),y_train[i:i+batch].reshape((batch,1)),W)\n",
    "    G=gamma*G+(1-gamma)*(g*g)\n",
    "    W=W-eta/np.sqrt(G+epsilon)*g\n",
    "    l_test=lossFunction(x_test,y_test,W)\n",
    "    RMSProp.append(l_test)\n",
    "print('finished') "
   ]
  },
  {
   "cell_type": "code",
   "execution_count": 26,
   "metadata": {},
   "outputs": [
    {
     "name": "stdout",
     "output_type": "stream",
     "text": [
      "finished\n"
     ]
    }
   ],
   "source": [
    "#AdaDelta\n",
    "W=np.zeros((m,1))\n",
    "AdaDelta=[]\n",
    "gamma=0.95\n",
    "epsilon=1e-6\n",
    "batch=100\n",
    "G=0\n",
    "dt=0\n",
    "for epoch in range(1500):\n",
    "    random.seed()\n",
    "    i=randint(0,n-1-batch)\n",
    "    g=gradient(x_train[i:i+batch].reshape((batch,m)),y_train[i:i+batch].reshape((batch,1)),W)\n",
    "    G=gamma*G+(1-gamma)*g*g\n",
    "    dw=-np.sqrt(dt+epsilon)/np.sqrt(G+epsilon)*g\n",
    "    W=W+dw\n",
    "    dt=gamma*dt+(1-gamma)*dw*dw\n",
    "    l_test=lossFunction(x_test,y_test,W)\n",
    "    AdaDelta.append(l_test)\n",
    "print('finished') "
   ]
  },
  {
   "cell_type": "code",
   "execution_count": 27,
   "metadata": {},
   "outputs": [
    {
     "name": "stdout",
     "output_type": "stream",
     "text": [
      "finished\n"
     ]
    }
   ],
   "source": [
    "#Adam\n",
    "W=np.zeros((m,1))\n",
    "Adam=[]\n",
    "beta=0.9\n",
    "gamma=0.999\n",
    "eta=0.001\n",
    "epsilon=1e-6\n",
    "batch=100\n",
    "M=0\n",
    "for epoch in range(1500):\n",
    "    i=randint(0,n-1-batch)\n",
    "    g=gradient(x_train[i:i+batch].reshape((batch,m)),y_train[i:i+batch].reshape((batch,1)),W)\n",
    "    M=beta*M+(1-beta)*g\n",
    "    G=gamma*G+(1-gamma)*g*g\n",
    "    alpha=eta*np.sqrt(1-math.pow(gamma,epoch))/(1-beta)\n",
    "    W=W-alpha*M/np.sqrt(G+epsilon)\n",
    "    l_test=lossFunction(x_test,y_test,W)\n",
    "    Adam.append(l_test)\n",
    "print('finished') "
   ]
  },
  {
   "cell_type": "code",
   "execution_count": 29,
   "metadata": {},
   "outputs": [
    {
     "data": {
      "image/png": "[encoded data removed]",
      "text/plain": [
       "<matplotlib.figure.Figure at 0x162e553b198>"
      ]
     },
     "metadata": {},
     "output_type": "display_data"
    }
   ],
   "source": [
    "plt.ylabel(\"loss\")\n",
    "plt.plot(NAG,color='red',label='NAG')\n",
    "plt.plot(RMSProp,color='green',label='RMSProp')\n",
    "plt.plot(AdaDelta,color='blue',label='AdaDelta')\n",
    "plt.plot(Adam,color='black',label='Adam')\n",
    "plt.legend(loc='upper center',shadow=True,fontsize='x-large')\n",
    "plt.show()"
   ]
  }
 ],
 "metadata": {
  "kernelspec": {
   "display_name": "Python 3",
   "language": "python",
   "name": "python3"
  },
  "language_info": {
   "codemirror_mode": {
    "name": "ipython",
    "version": 3
   },
   "file_extension": ".py",
   "mimetype": "text/x-python",
   "name": "python",
   "nbconvert_exporter": "python",
   "pygments_lexer": "ipython3",
   "version": "3.6.2"
  }
 },
 "nbformat": 4,
 "nbformat_minor": 2
}
